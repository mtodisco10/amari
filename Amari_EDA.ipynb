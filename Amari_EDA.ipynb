{
 "cells": [
  {
   "cell_type": "code",
   "execution_count": 1,
   "metadata": {},
   "outputs": [],
   "source": [
    "import pandas as pd\n",
    "import numpy as np\n",
    "import matplotlib.pyplot as plt\n",
    "import seaborn as sns\n",
    "\n",
    "import warnings\n",
    "warnings.filterwarnings('ignore')\n",
    "pd.set_option('display.max_columns', 250)\n",
    "pd.set_option('display.max_rows', 1000)\n",
    "\n",
    "import requests\n",
    "import pandas as pd\n",
    "from bs4 import BeautifulSoup\n",
    "\n",
    "from team_map import team_map"
   ]
  },
  {
   "cell_type": "code",
   "execution_count": 6,
   "metadata": {},
   "outputs": [
    {
     "name": "stdout",
     "output_type": "stream",
     "text": [
      "Reading in Play-By-Play data for the 2015 season\n",
      "Reading in Play-By-Play data for the 2016 season\n",
      "Reading in Play-By-Play data for the 2017 season\n",
      "Reading in Play-By-Play data for the 2018 season\n",
      "Reading in Play-By-Play data for the 2019 season\n"
     ]
    }
   ],
   "source": [
    "seasons = [2015, 2016, 2017, 2018, 2019]\n",
    "weeks = [str(w) for w in range(1, 18)]\n",
    "pbp_url = 'https://raw.githubusercontent.com/ryurko/nflscrapR-data/master/play_by_play_data/regular_season/reg_pbp_'\n",
    "weather_url = 'http://www.nflweather.com/en/week/'\n",
    "\n",
    "def pull_pbp_data(seasons, weeks):\n",
    "    pbp_lst = []\n",
    "#    pbp_url = 'https://raw.githubusercontent.com/ryurko/nflscrapR-data/master/play_by_play_data/regular_season/reg_pbp_'\n",
    "    for season in seasons:\n",
    "        print(f'Reading in Play-By-Play data for the {season} season')\n",
    "        season_pbp = pd.read_csv(pbp_url + str(season) + '.csv')\n",
    "        pbp_lst.append(season_pbp)\n",
    "\n",
    "    pbp_df = pd.concat(pbp_lst).reset_index(drop=True)\n",
    "    \n",
    "    pbp_df['game_date'] = pd.to_datetime(pbp_df['game_date'])\n",
    "    pbp_df['month'] = pbp_df.game_date.dt.month\n",
    "    pbp_df['year'] = pbp_df.game_date.dt.year\n",
    "    \n",
    "    return pbp_df\n",
    "\n",
    "#Pull Play-By-Play Data NFL scrapR github\n",
    "pbp_df = pull_pbp_data(seasons, weeks)"
   ]
  },
  {
   "cell_type": "code",
   "execution_count": 7,
   "metadata": {},
   "outputs": [],
   "source": [
    "class Player:\n",
    "    \n",
    "    def __init__(self, number, position, team, name, player_id):\n",
    "        self.number = number\n",
    "        self.position = position\n",
    "        self.team = team\n",
    "        self.name = name\n",
    "        self.player_id = player_id\n",
    "        \n",
    "    def get_player_pbp_data(self, pbp_df):\n",
    "        pos_col = self.position + '_player_id'\n",
    "        player_pbp_df = pbp_df.loc[pbp_df[pos_col] == self.player_id].reset_index(drop=True)\n",
    "        \n",
    "        return player_pbp_df\n",
    "    \n",
    "    def get_yards_per_game(self, player_pbp_df):\n",
    "        \n",
    "        return player_pbp_df.groupby(['game_id', 'year', 'month','home_team', 'away_team'], as_index=False)['yards_gained'].sum()"
   ]
  },
  {
   "cell_type": "code",
   "execution_count": 8,
   "metadata": {},
   "outputs": [],
   "source": [
    "amari = Player(80, 'receiver', 'Cowboys', 'A.Cooper', '00-0031544')\n",
    "amari_pbp = amari.get_player_pbp_data(pbp_df)\n",
    "amari_yds_per_game = amari.get_yards_per_game(amari_pbp)"
   ]
  },
  {
   "cell_type": "code",
   "execution_count": 9,
   "metadata": {},
   "outputs": [
    {
     "data": {
      "text/plain": [
       "<matplotlib.axes._subplots.AxesSubplot at 0x1215ab6a0>"
      ]
     },
     "execution_count": 9,
     "metadata": {},
     "output_type": "execute_result"
    },
    {
     "data": {
      "image/png": "[encoded data removed]",
      "text/plain": [
       "<Figure size 720x432 with 1 Axes>"
      ]
     },
     "metadata": {
      "needs_background": "light"
     },
     "output_type": "display_data"
    }
   ],
   "source": [
    "team_yards_in_a_month = amari_pbp.groupby(['month', 'posteam'], as_index = False)['yards_gained'].sum() \\\n",
    "    .sort_values(['month', 'posteam'])\n",
    "\n",
    "plt.figure(figsize=(10,6))\n",
    "sns.barplot(x= 'month', y = 'yards_gained', data=team_yards_in_a_month, hue='posteam')"
   ]
  },
  {
   "cell_type": "code",
   "execution_count": 17,
   "metadata": {},
   "outputs": [
    {
     "data": {
      "text/plain": [
       "'\\x14'"
      ]
     },
     "execution_count": 17,
     "metadata": {},
     "output_type": "execute_result"
    }
   ],
   "source": [
    "chr(20)"
   ]
  },
  {
   "cell_type": "code",
   "execution_count": 10,
   "metadata": {},
   "outputs": [
    {
     "ename": "NameError",
     "evalue": "name 'coop_df' is not defined",
     "output_type": "error",
     "traceback": [
      "\u001b[0;31m---------------------------------------------------------------------------\u001b[0m",
      "\u001b[0;31mNameError\u001b[0m                                 Traceback (most recent call last)",
      "\u001b[0;32m<ipython-input-10-2d0d0cd8994b>\u001b[0m in \u001b[0;36m<module>\u001b[0;34m\u001b[0m\n\u001b[0;32m----> 1\u001b[0;31m \u001b[0mteam_games_in_a_month\u001b[0m \u001b[0;34m=\u001b[0m \u001b[0mcoop_df\u001b[0m\u001b[0;34m.\u001b[0m\u001b[0mgroupby\u001b[0m\u001b[0;34m(\u001b[0m\u001b[0;34m[\u001b[0m\u001b[0;34m'month'\u001b[0m\u001b[0;34m,\u001b[0m \u001b[0;34m'posteam'\u001b[0m\u001b[0;34m]\u001b[0m\u001b[0;34m,\u001b[0m \u001b[0mas_index\u001b[0m\u001b[0;34m=\u001b[0m\u001b[0;32mFalse\u001b[0m\u001b[0;34m)\u001b[0m\u001b[0;34m[\u001b[0m\u001b[0;34m'game_id'\u001b[0m\u001b[0;34m]\u001b[0m\u001b[0;31m \u001b[0m\u001b[0;31m\\\u001b[0m\u001b[0;34m\u001b[0m\u001b[0m\n\u001b[0m\u001b[1;32m      2\u001b[0m     \u001b[0;34m.\u001b[0m\u001b[0magg\u001b[0m\u001b[0;34m(\u001b[0m\u001b[0;34m{\u001b[0m\u001b[0;34m'games'\u001b[0m\u001b[0;34m:\u001b[0m \u001b[0mpd\u001b[0m\u001b[0;34m.\u001b[0m\u001b[0mSeries\u001b[0m\u001b[0;34m.\u001b[0m\u001b[0mnunique\u001b[0m\u001b[0;34m}\u001b[0m\u001b[0;34m)\u001b[0m\u001b[0;31m \u001b[0m\u001b[0;31m\\\u001b[0m\u001b[0;34m\u001b[0m\u001b[0m\n\u001b[1;32m      3\u001b[0m     \u001b[0;34m.\u001b[0m\u001b[0msort_values\u001b[0m\u001b[0;34m(\u001b[0m\u001b[0;34m[\u001b[0m\u001b[0;34m'month'\u001b[0m\u001b[0;34m,\u001b[0m \u001b[0;34m'posteam'\u001b[0m\u001b[0;34m]\u001b[0m\u001b[0;34m)\u001b[0m\u001b[0;34m\u001b[0m\u001b[0m\n\u001b[1;32m      4\u001b[0m \u001b[0;34m\u001b[0m\u001b[0m\n\u001b[1;32m      5\u001b[0m \u001b[0mgraph_df\u001b[0m \u001b[0;34m=\u001b[0m \u001b[0mteam_yards_in_a_month\u001b[0m\u001b[0;34m.\u001b[0m\u001b[0mmerge\u001b[0m\u001b[0;34m(\u001b[0m\u001b[0mteam_games_in_a_month\u001b[0m\u001b[0;34m,\u001b[0m \u001b[0mon\u001b[0m \u001b[0;34m=\u001b[0m \u001b[0;34m[\u001b[0m\u001b[0;34m'month'\u001b[0m\u001b[0;34m,\u001b[0m \u001b[0;34m'posteam'\u001b[0m\u001b[0;34m]\u001b[0m\u001b[0;34m)\u001b[0m\u001b[0;34m\u001b[0m\u001b[0m\n",
      "\u001b[0;31mNameError\u001b[0m: name 'coop_df' is not defined"
     ]
    }
   ],
   "source": [
    "team_games_in_a_month = coop_df.groupby(['month', 'posteam'], as_index=False)['game_id'] \\\n",
    "    .agg({'games': pd.Series.nunique}) \\\n",
    "    .sort_values(['month', 'posteam'])\n",
    "\n",
    "graph_df = team_yards_in_a_month.merge(team_games_in_a_month, on = ['month', 'posteam'])"
   ]
  },
  {
   "cell_type": "code",
   "execution_count": 11,
   "metadata": {},
   "outputs": [
    {
     "ename": "NameError",
     "evalue": "name 'graph_df' is not defined",
     "output_type": "error",
     "traceback": [
      "\u001b[0;31m---------------------------------------------------------------------------\u001b[0m",
      "\u001b[0;31mNameError\u001b[0m                                 Traceback (most recent call last)",
      "\u001b[0;32m<ipython-input-11-c826f66e19e6>\u001b[0m in \u001b[0;36m<module>\u001b[0;34m\u001b[0m\n\u001b[0;32m----> 1\u001b[0;31m \u001b[0mgraph_df\u001b[0m\u001b[0;34m[\u001b[0m\u001b[0;34m'yards_per_game'\u001b[0m\u001b[0;34m]\u001b[0m \u001b[0;34m=\u001b[0m \u001b[0mgraph_df\u001b[0m\u001b[0;34m[\u001b[0m\u001b[0;34m'yards_gained'\u001b[0m\u001b[0;34m]\u001b[0m \u001b[0;34m/\u001b[0m \u001b[0mgraph_df\u001b[0m\u001b[0;34m[\u001b[0m\u001b[0;34m'games'\u001b[0m\u001b[0;34m]\u001b[0m\u001b[0;34m\u001b[0m\u001b[0m\n\u001b[0m\u001b[1;32m      2\u001b[0m \u001b[0;34m\u001b[0m\u001b[0m\n\u001b[1;32m      3\u001b[0m \u001b[0mplt\u001b[0m\u001b[0;34m.\u001b[0m\u001b[0mfigure\u001b[0m\u001b[0;34m(\u001b[0m\u001b[0mfigsize\u001b[0m\u001b[0;34m=\u001b[0m\u001b[0;34m(\u001b[0m\u001b[0;36m10\u001b[0m\u001b[0;34m,\u001b[0m\u001b[0;36m6\u001b[0m\u001b[0;34m)\u001b[0m\u001b[0;34m)\u001b[0m\u001b[0;34m\u001b[0m\u001b[0m\n\u001b[1;32m      4\u001b[0m \u001b[0msns\u001b[0m\u001b[0;34m.\u001b[0m\u001b[0mbarplot\u001b[0m\u001b[0;34m(\u001b[0m\u001b[0mx\u001b[0m\u001b[0;34m=\u001b[0m\u001b[0;34m'month'\u001b[0m\u001b[0;34m,\u001b[0m \u001b[0my\u001b[0m\u001b[0;34m=\u001b[0m\u001b[0;34m'yards_per_game'\u001b[0m\u001b[0;34m,\u001b[0m \u001b[0mhue\u001b[0m\u001b[0;34m=\u001b[0m\u001b[0;34m'posteam'\u001b[0m\u001b[0;34m,\u001b[0m \u001b[0mdata\u001b[0m\u001b[0;34m=\u001b[0m\u001b[0mgraph_df\u001b[0m\u001b[0;34m.\u001b[0m\u001b[0mloc\u001b[0m\u001b[0;34m[\u001b[0m\u001b[0mgraph_df\u001b[0m\u001b[0;34m.\u001b[0m\u001b[0mmonth\u001b[0m \u001b[0;34m!=\u001b[0m \u001b[0;36m1\u001b[0m\u001b[0;34m]\u001b[0m\u001b[0;34m)\u001b[0m\u001b[0;34m\u001b[0m\u001b[0m\n",
      "\u001b[0;31mNameError\u001b[0m: name 'graph_df' is not defined"
     ]
    }
   ],
   "source": [
    "graph_df['yards_per_game'] = graph_df['yards_gained'] / graph_df['games']\n",
    "\n",
    "plt.figure(figsize=(10,6))\n",
    "sns.barplot(x='month', y='yards_per_game', hue='posteam', data=graph_df.loc[graph_df.month != 1])"
   ]
  },
  {
   "cell_type": "code",
   "execution_count": 12,
   "metadata": {},
   "outputs": [],
   "source": [
    "# team_yards_in_a_qtr = coop_df.groupby(['qtr', 'posteam', 'month'], as_index = False)['yards_gained'].sum() \\\n",
    "#     .sort_values(['qtr', 'posteam'])\n",
    "\n",
    "# sns.barplot(x='qtr', y='yards_gained', data=team_yards_in_a_qtr.loc[team_yards_in_a_qtr.qtr != 5], #hue='posteam'\n",
    "#            )\n",
    "\n",
    "# g = sns.FacetGrid(team_yards_in_a_qtr, col=\"qtr\", col_wrap=2, height=1.5)\n",
    "# g = g.map(plt.hist, \"month\", \"yards_gained\", marker=\".\")"
   ]
  },
  {
   "cell_type": "code",
   "execution_count": null,
   "metadata": {},
   "outputs": [],
   "source": [
    "def request_data(url):\n",
    "    page = requests.get(url)\n",
    "    soup = BeautifulSoup(page.text, 'html.parser')\n",
    "    \n",
    "    return soup\n",
    "\n",
    "def get_team_data(bs_data):\n",
    "    teams = bs_data.find_all(class_=\"team-name text-center\")\n",
    "\n",
    "    away_teams = []\n",
    "    home_teams = []\n",
    "\n",
    "    for i, v in enumerate(teams):\n",
    "        if i % 2 == 0:\n",
    "            away_teams.append(teams[i].find('a').contents[0])\n",
    "        else:\n",
    "            home_teams.append(teams[i].find('a').contents[0])\n",
    "            \n",
    "    return away_teams, home_teams\n",
    "\n",
    "def get_weather_data(bs_data):\n",
    "    games = bs_data.find_all('tr')\n",
    "\n",
    "    weather_lst = []\n",
    "    for i, v in enumerate(games):\n",
    "        #skip header\n",
    "        if i > 0:\n",
    "            game_details = games[i].find_all(class_='text-center')\n",
    "\n",
    "            forecast = game_details[5].contents[0]\n",
    "\n",
    "            weather_lst.append(' '.join(forecast.split()))\n",
    "            \n",
    "    return weather_lst"
   ]
  },
  {
   "cell_type": "code",
   "execution_count": null,
   "metadata": {},
   "outputs": [],
   "source": [
    "weather_lst = []\n",
    "\n",
    "for season in seasons:\n",
    "    print(f'Scraping Weather Data for the {season} Season')\n",
    "    for week in weeks:\n",
    "        request_url = f'{weather_url}{season}/week-{week}'\n",
    "        soup = request_data(request_url)\n",
    "        \n",
    "        away_teams, home_teams = get_team_data(soup)\n",
    "        \n",
    "        weather = get_weather_data(soup)\n",
    "        \n",
    "        weather_df = pd.DataFrame({'away_tm': away_teams,\n",
    "                                   'home_tm': home_teams,\n",
    "                                   'weather': weather,\n",
    "                                  })\n",
    "        \n",
    "        weather_df['year'] = season\n",
    "        weather_df['week'] = week\n",
    "        \n",
    "        weather_lst.append(weather_df)\n",
    "        \n",
    "full_weather_df = pd.concat(weather_lst).reset_index(drop=True)\n",
    "\n",
    "coop_weather_df = full_weather_df.loc[(full_weather_df.away_tm.isin(['Cowboys','Raiders'])) |\n",
    "                                      (full_weather_df.home_tm.isin(['Cowboys','Raiders']))]"
   ]
  },
  {
   "cell_type": "code",
   "execution_count": null,
   "metadata": {},
   "outputs": [],
   "source": [
    "coop_df = coop_df.replace('SD', 'LAC')\n",
    "coop_df.shape"
   ]
  },
  {
   "cell_type": "code",
   "execution_count": null,
   "metadata": {},
   "outputs": [],
   "source": [
    "coop_weather_df['away_team'] = coop_weather_df['away_tm'].apply(lambda x: team_map[x])\n",
    "coop_weather_df['home_team'] = coop_weather_df['home_tm'].apply(lambda x: team_map[x])"
   ]
  },
  {
   "cell_type": "code",
   "execution_count": null,
   "metadata": {},
   "outputs": [],
   "source": [
    "merged_coop_df = coop_df.merge(coop_weather_df, how = 'left', on = ['away_team', 'home_team', 'year'])"
   ]
  },
  {
   "cell_type": "code",
   "execution_count": null,
   "metadata": {},
   "outputs": [],
   "source": [
    "merged_coop_df['temp'] = np.where(merged_coop_df.weather == 'DOME',\n",
    "                                  -999,\n",
    "                                  merged_coop_df.weather.str.split('f').str[0]).astype(int)"
   ]
  },
  {
   "cell_type": "code",
   "execution_count": null,
   "metadata": {},
   "outputs": [],
   "source": [
    "merged_coop_df.loc[merged_coop_df.weather != 'DOME']['temp'].hist()"
   ]
  },
  {
   "cell_type": "code",
   "execution_count": null,
   "metadata": {},
   "outputs": [],
   "source": [
    "merged_coop_df.loc[merged_coop_df.weather != 'DOME']"
   ]
  },
  {
   "cell_type": "code",
   "execution_count": null,
   "metadata": {},
   "outputs": [],
   "source": [
    "merged_coop_df['temp_bin'] = np.where(merged_coop_df.temp < 50, \"<50\",\n",
    "                                      np.where(merged_coop_df.temp < 75,'50-75',\n",
    "                                      np.where(merged_coop_df.temp >= 75, '>=75', 'NO TEMP')))"
   ]
  },
  {
   "cell_type": "code",
   "execution_count": null,
   "metadata": {},
   "outputs": [],
   "source": [
    "merged_coop_df.temp_bin.value_counts(normalize=True)"
   ]
  },
  {
   "cell_type": "code",
   "execution_count": null,
   "metadata": {},
   "outputs": [],
   "source": [
    "temp_bin_df = merged_coop_df.groupby(['temp_bin'], as_index = False)['game_id',] \\\n",
    "    .agg(pd.Series.nunique) \\\n",
    "    .merge(merged_coop_df.groupby(['temp_bin'], as_index = False)['yards_gained',]\n",
    "           .agg(np.sum), on = 'temp_bin')"
   ]
  },
  {
   "cell_type": "code",
   "execution_count": null,
   "metadata": {},
   "outputs": [],
   "source": [
    "temp_bin_df['yards_per_game'] = temp_bin_df['yards_gained'] / temp_bin_df['game_id']"
   ]
  },
  {
   "cell_type": "code",
   "execution_count": null,
   "metadata": {},
   "outputs": [],
   "source": [
    "temp_bin_df.sort_values('yards_per_game')"
   ]
  },
  {
   "cell_type": "code",
   "execution_count": null,
   "metadata": {},
   "outputs": [],
   "source": []
  }
 ],
 "metadata": {
  "kernelspec": {
   "display_name": "Python 3",
   "language": "python",
   "name": "python3"
  },
  "language_info": {
   "codemirror_mode": {
    "name": "ipython",
    "version": 3
   },
   "file_extension": ".py",
   "mimetype": "text/x-python",
   "name": "python",
   "nbconvert_exporter": "python",
   "pygments_lexer": "ipython3",
   "version": "3.6.0"
  }
 },
 "nbformat": 4,
 "nbformat_minor": 4
}
