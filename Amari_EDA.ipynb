{
 "cells": [
  {
   "cell_type": "code",
   "execution_count": 1,
   "metadata": {},
   "outputs": [],
   "source": [
    "import pandas as pd\n",
    "import numpy as np\n",
    "import matplotlib.pyplot as plt\n",
    "import seaborn as sns\n",
    "\n",
    "import warnings\n",
    "warnings.filterwarnings('ignore')\n",
    "pd.set_option('display.max_columns', 250)\n",
    "pd.set_option('display.max_rows', 1000)"
   ]
  },
  {
   "cell_type": "code",
   "execution_count": null,
   "metadata": {},
   "outputs": [],
   "source": [
    "seasons = [2015, 2016, 2017, 2018, 2019]"
   ]
  },
  {
   "cell_type": "code",
   "execution_count": null,
   "metadata": {},
   "outputs": [],
   "source": [
    "coop_lst = []\n",
    "url = 'https://raw.githubusercontent.com/ryurko/nflscrapR-data/master/play_by_play_data/regular_season/reg_pbp_'\n",
    "for season in seasons:\n",
    "    print(f'Reading in Play-By-Play data for the {season} season')\n",
    "    season_pbp = pd.read_csv(f'{url}{season}.csv')\n",
    "    coop_pbp = season_pbp.loc[season_pbp.receiver_player_id == '00-0031544']\n",
    "    coop_lst.append(coop_pbp)\n",
    "    \n",
    "coop_df = pd.concat(coop_lst).reset_index(drop=True)"
   ]
  },
  {
   "cell_type": "code",
   "execution_count": null,
   "metadata": {},
   "outputs": [],
   "source": [
    "#dal_pbp_df.loc[dal_pbp_df.receiver_player_name == 'A.Cooper'].receiver_player_id.value_counts()"
   ]
  },
  {
   "cell_type": "code",
   "execution_count": null,
   "metadata": {},
   "outputs": [],
   "source": [
    "coop_df['game_date'] = pd.to_datetime(coop_df['game_date'])"
   ]
  },
  {
   "cell_type": "code",
   "execution_count": null,
   "metadata": {},
   "outputs": [],
   "source": [
    "dal_pbp_df.sort_values('game_date')"
   ]
  },
  {
   "cell_type": "code",
   "execution_count": null,
   "metadata": {},
   "outputs": [],
   "source": [
    "coop_df = dal_pbp_df.loc[(dal_pbp_df.play_type == 'pass') &\n",
    "                         ( dal_pbp_df.receiver_player_id == '00-0031544')].reset_index(drop=True)"
   ]
  },
  {
   "cell_type": "code",
   "execution_count": null,
   "metadata": {},
   "outputs": [],
   "source": [
    "coop_df.sort_values('game_date')"
   ]
  },
  {
   "cell_type": "code",
   "execution_count": null,
   "metadata": {},
   "outputs": [],
   "source": [
    "coop_df['month'] = coop_df.game_date.dt.month\n"
   ]
  },
  {
   "cell_type": "code",
   "execution_count": null,
   "metadata": {},
   "outputs": [],
   "source": [
    "coop_df.groupby['month']['']"
   ]
  },
  {
   "cell_type": "code",
   "execution_count": null,
   "metadata": {},
   "outputs": [],
   "source": [
    "yards_in_a_month = coop_df.groupby(['month'], as_index = False)['yards_gained'].sum()"
   ]
  },
  {
   "cell_type": "code",
   "execution_count": null,
   "metadata": {},
   "outputs": [],
   "source": [
    "team_yards_in_a_month = coop_df.groupby(['month', 'posteam'], as_index = False)['yards_gained'].sum() \\\n",
    "    .sort_values(['month', 'posteam'])"
   ]
  },
  {
   "cell_type": "code",
   "execution_count": null,
   "metadata": {},
   "outputs": [],
   "source": [
    "sns.barplot(x= 'month', y = 'yards_gained', data=team_yards_in_a_month, hue='posteam')"
   ]
  },
  {
   "cell_type": "code",
   "execution_count": null,
   "metadata": {},
   "outputs": [],
   "source": [
    "team_games_in_a_month = coop_df.groupby(['month', 'posteam'], as_index=False)['game_id'] \\\n",
    "    .agg({'games': pd.Series.nunique}) \\\n",
    "    .sort_values(['month', 'posteam'])"
   ]
  },
  {
   "cell_type": "code",
   "execution_count": null,
   "metadata": {},
   "outputs": [],
   "source": [
    "graph_df = team_yards_in_a_month.merge(team_games_in_a_month, on = ['month', 'posteam'])"
   ]
  },
  {
   "cell_type": "code",
   "execution_count": null,
   "metadata": {},
   "outputs": [],
   "source": [
    "graph_df['yards_per_game'] = graph_df['yards_gained'] / graph_df['games']"
   ]
  },
  {
   "cell_type": "code",
   "execution_count": null,
   "metadata": {},
   "outputs": [],
   "source": [
    "sns.barplot(x='month', y='yards_per_game', hue='posteam', data=graph_df.loc[graph_df.month != 1])"
   ]
  },
  {
   "cell_type": "code",
   "execution_count": null,
   "metadata": {},
   "outputs": [],
   "source": [
    "import calmap"
   ]
  },
  {
   "cell_type": "code",
   "execution_count": null,
   "metadata": {},
   "outputs": [],
   "source": [
    "plt.figure(figsize=(12,18))\n",
    "calmap.yearplot(coop_df.groupby('game_date')['yards_gained'].sum())"
   ]
  },
  {
   "cell_type": "code",
   "execution_count": null,
   "metadata": {},
   "outputs": [],
   "source": [
    "coop_df.head()"
   ]
  },
  {
   "cell_type": "code",
   "execution_count": null,
   "metadata": {},
   "outputs": [],
   "source": [
    "team_yards_in_a_qtr = coop_df.groupby(['qtr', 'posteam', 'month'], as_index = False)['yards_gained'].sum() \\\n",
    "    .sort_values(['qtr', 'posteam'])"
   ]
  },
  {
   "cell_type": "code",
   "execution_count": null,
   "metadata": {},
   "outputs": [],
   "source": [
    "team_yards_in_a_qtr.head()"
   ]
  },
  {
   "cell_type": "code",
   "execution_count": null,
   "metadata": {},
   "outputs": [],
   "source": [
    "# sns.barplot(x='qtr', y='yards_gained', data=team_yards_in_a_qtr.loc[team_yards_in_a_qtr.qtr != 5], #hue='posteam'\n",
    "#            )"
   ]
  },
  {
   "cell_type": "code",
   "execution_count": null,
   "metadata": {},
   "outputs": [],
   "source": [
    "# g = sns.FacetGrid(team_yards_in_a_qtr, col=\"qtr\", col_wrap=2, height=1.5)\n",
    "# g = g.map(plt.hist, \"month\", \"yards_gained\", marker=\".\")"
   ]
  },
  {
   "cell_type": "code",
   "execution_count": null,
   "metadata": {},
   "outputs": [],
   "source": [
    "for c in coop_df.columns:\n",
    "    print(c)"
   ]
  },
  {
   "cell_type": "code",
   "execution_count": 7,
   "metadata": {},
   "outputs": [],
   "source": [
    "import requests\n",
    "import pandas as pd\n",
    "from bs4 import BeautifulSoup"
   ]
  },
  {
   "cell_type": "code",
   "execution_count": 8,
   "metadata": {},
   "outputs": [],
   "source": [
    "seasons = ['2015','2016','2017','2018','2019',]\n",
    "weeks = [str(w) for w in range(1, 18)]\n",
    "url = 'http://www.nflweather.com/en/week/'"
   ]
  },
  {
   "cell_type": "code",
   "execution_count": 30,
   "metadata": {},
   "outputs": [],
   "source": [
    "def request_data(url):\n",
    "    page = requests.get(url)\n",
    "    soup = BeautifulSoup(page.text, 'html.parser')\n",
    "    \n",
    "    return soup\n",
    "\n",
    "def get_team_data(bs_data):\n",
    "    teams = bs_data.find_all(class_=\"team-name text-center\")\n",
    "\n",
    "    away_teams = []\n",
    "    home_teams = []\n",
    "\n",
    "    for i, v in enumerate(teams):\n",
    "        if i % 2 == 0:\n",
    "            away_teams.append(teams[i].find('a').contents[0])\n",
    "        else:\n",
    "            home_teams.append(teams[i].find('a').contents[0])\n",
    "            \n",
    "    return away_teams, home_teams\n",
    "\n",
    "def get_weather_data(bs_data):\n",
    "    games = bs_data.find_all('tr')\n",
    "\n",
    "    weather_lst = []\n",
    "    for i, v in enumerate(games):\n",
    "        #skip header\n",
    "        if i > 0:\n",
    "            game_details = games[i].find_all(class_='text-center')\n",
    "\n",
    "            forecast = game_details[5].contents[0]\n",
    "\n",
    "            weather_lst.append(' '.join(forecast.split()))\n",
    "            \n",
    "    return weather_lst"
   ]
  },
  {
   "cell_type": "code",
   "execution_count": 35,
   "metadata": {},
   "outputs": [
    {
     "name": "stdout",
     "output_type": "stream",
     "text": [
      "Requesting Data for the 2015 season week 1\n",
      "Requesting Data for the 2015 season week 2\n",
      "Requesting Data for the 2015 season week 3\n",
      "Requesting Data for the 2015 season week 4\n",
      "Requesting Data for the 2015 season week 5\n",
      "Requesting Data for the 2015 season week 6\n",
      "Requesting Data for the 2015 season week 7\n",
      "Requesting Data for the 2015 season week 8\n",
      "Requesting Data for the 2015 season week 9\n",
      "Requesting Data for the 2015 season week 10\n",
      "Requesting Data for the 2015 season week 11\n",
      "Requesting Data for the 2015 season week 12\n",
      "Requesting Data for the 2015 season week 13\n",
      "Requesting Data for the 2015 season week 14\n",
      "Requesting Data for the 2015 season week 15\n",
      "Requesting Data for the 2015 season week 16\n",
      "Requesting Data for the 2015 season week 17\n",
      "Requesting Data for the 2016 season week 1\n",
      "Requesting Data for the 2016 season week 2\n",
      "Requesting Data for the 2016 season week 3\n",
      "Requesting Data for the 2016 season week 4\n",
      "Requesting Data for the 2016 season week 5\n",
      "Requesting Data for the 2016 season week 6\n",
      "Requesting Data for the 2016 season week 7\n",
      "Requesting Data for the 2016 season week 8\n",
      "Requesting Data for the 2016 season week 9\n",
      "Requesting Data for the 2016 season week 10\n",
      "Requesting Data for the 2016 season week 11\n",
      "Requesting Data for the 2016 season week 12\n",
      "Requesting Data for the 2016 season week 13\n",
      "Requesting Data for the 2016 season week 14\n",
      "Requesting Data for the 2016 season week 15\n",
      "Requesting Data for the 2016 season week 16\n",
      "Requesting Data for the 2016 season week 17\n",
      "Requesting Data for the 2017 season week 1\n",
      "Requesting Data for the 2017 season week 2\n",
      "Requesting Data for the 2017 season week 3\n",
      "Requesting Data for the 2017 season week 4\n",
      "Requesting Data for the 2017 season week 5\n",
      "Requesting Data for the 2017 season week 6\n",
      "Requesting Data for the 2017 season week 7\n",
      "Requesting Data for the 2017 season week 8\n",
      "Requesting Data for the 2017 season week 9\n",
      "Requesting Data for the 2017 season week 10\n",
      "Requesting Data for the 2017 season week 11\n",
      "Requesting Data for the 2017 season week 12\n",
      "Requesting Data for the 2017 season week 13\n",
      "Requesting Data for the 2017 season week 14\n",
      "Requesting Data for the 2017 season week 15\n",
      "Requesting Data for the 2017 season week 16\n",
      "Requesting Data for the 2017 season week 17\n",
      "Requesting Data for the 2018 season week 1\n",
      "Requesting Data for the 2018 season week 2\n",
      "Requesting Data for the 2018 season week 3\n",
      "Requesting Data for the 2018 season week 4\n",
      "Requesting Data for the 2018 season week 5\n",
      "Requesting Data for the 2018 season week 6\n",
      "Requesting Data for the 2018 season week 7\n",
      "Requesting Data for the 2018 season week 8\n",
      "Requesting Data for the 2018 season week 9\n",
      "Requesting Data for the 2018 season week 10\n",
      "Requesting Data for the 2018 season week 11\n",
      "Requesting Data for the 2018 season week 12\n",
      "Requesting Data for the 2018 season week 13\n",
      "Requesting Data for the 2018 season week 14\n",
      "Requesting Data for the 2018 season week 15\n",
      "Requesting Data for the 2018 season week 16\n",
      "Requesting Data for the 2018 season week 17\n",
      "Requesting Data for the 2019 season week 1\n",
      "Requesting Data for the 2019 season week 2\n",
      "Requesting Data for the 2019 season week 3\n",
      "Requesting Data for the 2019 season week 4\n",
      "Requesting Data for the 2019 season week 5\n",
      "Requesting Data for the 2019 season week 6\n",
      "Requesting Data for the 2019 season week 7\n",
      "Requesting Data for the 2019 season week 8\n",
      "Requesting Data for the 2019 season week 9\n",
      "Requesting Data for the 2019 season week 10\n",
      "Requesting Data for the 2019 season week 11\n",
      "Requesting Data for the 2019 season week 12\n",
      "Requesting Data for the 2019 season week 13\n",
      "Requesting Data for the 2019 season week 14\n",
      "Requesting Data for the 2019 season week 15\n",
      "Requesting Data for the 2019 season week 16\n",
      "Requesting Data for the 2019 season week 17\n"
     ]
    }
   ],
   "source": [
    "weather_lst = []\n",
    "\n",
    "for season in seasons:\n",
    "    for week in weeks:\n",
    "        print(f'Scraping Weather Data for the {season} season week {week}')\n",
    "        request_url = f'{url}{season}/week-{week}'\n",
    "        soup = request_data(request_url)\n",
    "        \n",
    "        away_teams, home_teams = get_team_data(soup)\n",
    "        \n",
    "        weather = get_weather_data(soup)\n",
    "        \n",
    "        weather_df = pd.DataFrame({'away_tm': away_teams,\n",
    "                                   'home_tm': home_teams,\n",
    "                                   'weather': weather,\n",
    "                                  })\n",
    "        \n",
    "        weather_df['season'] = season\n",
    "        weather_df['week'] = week\n",
    "        \n",
    "        weather_lst.append(weather_df)\n",
    "        \n",
    "full_weather_df = pd.concat(weather_lst).reset_index(drop=True)"
   ]
  },
  {
   "cell_type": "code",
   "execution_count": 36,
   "metadata": {},
   "outputs": [
    {
     "data": {
      "text/html": [
       "<div>\n",
       "<style scoped>\n",
       "    .dataframe tbody tr th:only-of-type {\n",
       "        vertical-align: middle;\n",
       "    }\n",
       "\n",
       "    .dataframe tbody tr th {\n",
       "        vertical-align: top;\n",
       "    }\n",
       "\n",
       "    .dataframe thead th {\n",
       "        text-align: right;\n",
       "    }\n",
       "</style>\n",
       "<table border=\"1\" class=\"dataframe\">\n",
       "  <thead>\n",
       "    <tr style=\"text-align: right;\">\n",
       "      <th></th>\n",
       "      <th>away_tm</th>\n",
       "      <th>home_tm</th>\n",
       "      <th>weather</th>\n",
       "      <th>season</th>\n",
       "      <th>week</th>\n",
       "    </tr>\n",
       "  </thead>\n",
       "  <tbody>\n",
       "    <tr>\n",
       "      <th>0</th>\n",
       "      <td>Steelers</td>\n",
       "      <td>Patriots</td>\n",
       "      <td>64f Light Rain</td>\n",
       "      <td>2015</td>\n",
       "      <td>1</td>\n",
       "    </tr>\n",
       "    <tr>\n",
       "      <th>1</th>\n",
       "      <td>Packers</td>\n",
       "      <td>Bears</td>\n",
       "      <td>68f Partly Cloudy</td>\n",
       "      <td>2015</td>\n",
       "      <td>1</td>\n",
       "    </tr>\n",
       "    <tr>\n",
       "      <th>2</th>\n",
       "      <td>Chiefs</td>\n",
       "      <td>Texans</td>\n",
       "      <td>83f Clear</td>\n",
       "      <td>2015</td>\n",
       "      <td>1</td>\n",
       "    </tr>\n",
       "    <tr>\n",
       "      <th>3</th>\n",
       "      <td>Browns</td>\n",
       "      <td>Jets</td>\n",
       "      <td>76f Partly Cloudy</td>\n",
       "      <td>2015</td>\n",
       "      <td>1</td>\n",
       "    </tr>\n",
       "    <tr>\n",
       "      <th>4</th>\n",
       "      <td>Colts</td>\n",
       "      <td>Bills</td>\n",
       "      <td>53f Mostly Cloudy</td>\n",
       "      <td>2015</td>\n",
       "      <td>1</td>\n",
       "    </tr>\n",
       "    <tr>\n",
       "      <th>...</th>\n",
       "      <td>...</td>\n",
       "      <td>...</td>\n",
       "      <td>...</td>\n",
       "      <td>...</td>\n",
       "      <td>...</td>\n",
       "    </tr>\n",
       "    <tr>\n",
       "      <th>1275</th>\n",
       "      <td>Titans</td>\n",
       "      <td>Texans</td>\n",
       "      <td>64f Partly Cloudy</td>\n",
       "      <td>2019</td>\n",
       "      <td>17</td>\n",
       "    </tr>\n",
       "    <tr>\n",
       "      <th>1276</th>\n",
       "      <td>Colts</td>\n",
       "      <td>Jaguars</td>\n",
       "      <td>73f Mostly Cloudy</td>\n",
       "      <td>2019</td>\n",
       "      <td>17</td>\n",
       "    </tr>\n",
       "    <tr>\n",
       "      <th>1277</th>\n",
       "      <td>Raiders</td>\n",
       "      <td>Broncos</td>\n",
       "      <td>32f Clear</td>\n",
       "      <td>2019</td>\n",
       "      <td>17</td>\n",
       "    </tr>\n",
       "    <tr>\n",
       "      <th>1278</th>\n",
       "      <td>Cardinals</td>\n",
       "      <td>Rams</td>\n",
       "      <td>61f Clear</td>\n",
       "      <td>2019</td>\n",
       "      <td>17</td>\n",
       "    </tr>\n",
       "    <tr>\n",
       "      <th>1279</th>\n",
       "      <td>49ers</td>\n",
       "      <td>Seahawks</td>\n",
       "      <td>47f Partly Cloudy</td>\n",
       "      <td>2019</td>\n",
       "      <td>17</td>\n",
       "    </tr>\n",
       "  </tbody>\n",
       "</table>\n",
       "<p>1280 rows × 5 columns</p>\n",
       "</div>"
      ],
      "text/plain": [
       "        away_tm   home_tm            weather season week\n",
       "0      Steelers  Patriots     64f Light Rain   2015    1\n",
       "1       Packers     Bears  68f Partly Cloudy   2015    1\n",
       "2        Chiefs    Texans          83f Clear   2015    1\n",
       "3        Browns      Jets  76f Partly Cloudy   2015    1\n",
       "4         Colts     Bills  53f Mostly Cloudy   2015    1\n",
       "...         ...       ...                ...    ...  ...\n",
       "1275     Titans    Texans  64f Partly Cloudy   2019   17\n",
       "1276      Colts   Jaguars  73f Mostly Cloudy   2019   17\n",
       "1277    Raiders   Broncos          32f Clear   2019   17\n",
       "1278  Cardinals      Rams          61f Clear   2019   17\n",
       "1279      49ers  Seahawks  47f Partly Cloudy   2019   17\n",
       "\n",
       "[1280 rows x 5 columns]"
      ]
     },
     "execution_count": 36,
     "metadata": {},
     "output_type": "execute_result"
    }
   ],
   "source": [
    "full_weather_df"
   ]
  },
  {
   "cell_type": "code",
   "execution_count": null,
   "metadata": {},
   "outputs": [],
   "source": []
  }
 ],
 "metadata": {
  "kernelspec": {
   "display_name": "Python 3",
   "language": "python",
   "name": "python3"
  },
  "language_info": {
   "codemirror_mode": {
    "name": "ipython",
    "version": 3
   },
   "file_extension": ".py",
   "mimetype": "text/x-python",
   "name": "python",
   "nbconvert_exporter": "python",
   "pygments_lexer": "ipython3",
   "version": "3.6.0"
  }
 },
 "nbformat": 4,
 "nbformat_minor": 4
}
