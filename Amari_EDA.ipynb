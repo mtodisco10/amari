{
 "cells": [
  {
   "cell_type": "markdown",
   "metadata": {},
   "source": [
    "## Imports"
   ]
  },
  {
   "cell_type": "code",
   "execution_count": 1,
   "metadata": {},
   "outputs": [],
   "source": [
    "import pandas as pd\n",
    "import numpy as np\n",
    "import matplotlib.pyplot as plt\n",
    "import seaborn as sns\n",
    "\n",
    "import warnings\n",
    "warnings.filterwarnings('ignore')\n",
    "pd.set_option('display.max_columns', 250)\n",
    "pd.set_option('display.max_rows', 1000)\n",
    "\n",
    "import requests\n",
    "import pandas as pd\n",
    "from bs4 import BeautifulSoup\n",
    "\n",
    "from team_map import team_map"
   ]
  },
  {
   "cell_type": "markdown",
   "metadata": {},
   "source": [
    "## Pull play by play data from nflscrapR"
   ]
  },
  {
   "cell_type": "code",
   "execution_count": 2,
   "metadata": {},
   "outputs": [
    {
     "name": "stdout",
     "output_type": "stream",
     "text": [
      "Reading in Play-By-Play data for the 2015 season\n",
      "Reading in Play-By-Play data for the 2016 season\n",
      "Reading in Play-By-Play data for the 2017 season\n",
      "Reading in Play-By-Play data for the 2018 season\n",
      "Reading in Play-By-Play data for the 2019 season\n"
     ]
    }
   ],
   "source": [
    "seasons = [2015, 2016, 2017, 2018, 2019]\n",
    "weeks = [str(w) for w in range(1, 18)]\n",
    "pbp_url = 'https://raw.githubusercontent.com/ryurko/nflscrapR-data/master/play_by_play_data/regular_season/reg_pbp_'\n",
    "weather_url = 'http://www.nflweather.com/en/week/'\n",
    "\n",
    "def pull_pbp_data(seasons, weeks):\n",
    "    pbp_lst = []\n",
    "#    pbp_url = 'https://raw.githubusercontent.com/ryurko/nflscrapR-data/master/play_by_play_data/regular_season/reg_pbp_'\n",
    "    for season in seasons:\n",
    "        print(f'Reading in Play-By-Play data for the {season} season')\n",
    "        season_pbp = pd.read_csv(pbp_url + str(season) + '.csv')\n",
    "        pbp_lst.append(season_pbp)\n",
    "\n",
    "    pbp_df = pd.concat(pbp_lst).reset_index(drop=True)\n",
    "    \n",
    "    pbp_df['game_date'] = pd.to_datetime(pbp_df['game_date'])\n",
    "    pbp_df['month'] = pbp_df.game_date.dt.month\n",
    "    pbp_df['year'] = pbp_df.game_date.dt.year\n",
    "    \n",
    "    return pbp_df\n",
    "\n",
    "#Pull Play-By-Play Data NFL scrapR github\n",
    "pbp_df = pull_pbp_data(seasons, weeks)"
   ]
  },
  {
   "cell_type": "markdown",
   "metadata": {},
   "source": [
    "## Define a Player Class\n",
    "    return play-by-play and relevant information for a player"
   ]
  },
  {
   "cell_type": "code",
   "execution_count": 65,
   "metadata": {},
   "outputs": [],
   "source": [
    "class Player:\n",
    "    \n",
    "    def __init__(self, number, position, team, name, player_id):\n",
    "        self.number = number\n",
    "        self.position = position\n",
    "        self.team = team\n",
    "        self.name = name\n",
    "        self.player_id = player_id\n",
    "        \n",
    "    def get_player_pbp_data(self, pbp_df):\n",
    "        pos_col = self.position + '_player_id'\n",
    "        player_pbp_df = pbp_df.loc[pbp_df[pos_col] == self.player_id].reset_index(drop=True)\n",
    "        \n",
    "        return player_pbp_df\n",
    "    \n",
    "    def get_agg_stats(self, player_pbp_df, agg_lst, stat_lst):\n",
    "        \n",
    "        agg_stats_df = player_pbp_df.groupby(agg_lst, as_index=False)[stat_lst].sum()\n",
    "        \n",
    "        agg_stats_df['amari_home'] = np.where((agg_stats_df['home_team'] == 'OAK') |\n",
    "                                              (agg_stats_df['home_team'] == 'DAL'),\n",
    "                                              'Y', 'N')\n",
    "        \n",
    "        agg_stats_df['team'] = np.where(agg_stats_df['amari_home'] == 'Y', \n",
    "                                        agg_stats_df['home_team'],\n",
    "                                        agg_stats_df['away_team'])\n",
    "        \n",
    "        return agg_stats_df\n",
    "    "
   ]
  },
  {
   "cell_type": "markdown",
   "metadata": {},
   "source": [
    "Instantiate the class for Amari"
   ]
  },
  {
   "cell_type": "code",
   "execution_count": 72,
   "metadata": {},
   "outputs": [],
   "source": [
    "amari = Player(80, 'receiver', 'Cowboys', 'A.Cooper', '00-0031544')\n",
    "amari_pbp = amari.get_player_pbp_data(pbp_df)\n",
    "#Filter out Jan games\n",
    "amari_pbp = amari_pbp.loc[amari_pbp.month >= 9]\n",
    "agg_lst = ['game_id','year','month','home_team','away_team','qtr']\n",
    "stat_lst = ['yards_gained', 'epa']\n",
    "amari_stats_per_game_qtr = amari.get_agg_stats(amari_pbp, agg_lst, stat_lst)\n",
    "\n",
    "\n",
    "amari_stats_per_game = amari_stats_per_game_qtr.groupby([c for c in agg_lst if c != 'qtr']\n",
    "                                                        + ['amari_home', 'team'], as_index=False)['epa'].sum()"
   ]
  },
  {
   "cell_type": "code",
   "execution_count": 74,
   "metadata": {
    "scrolled": true
   },
   "outputs": [
    {
     "data": {
      "text/plain": [
       "<matplotlib.axes._subplots.AxesSubplot at 0x123e3ce80>"
      ]
     },
     "execution_count": 74,
     "metadata": {},
     "output_type": "execute_result"
    },
    {
     "data": {
      "image/png": "[encoded data removed]",
      "text/plain": [
       "<Figure size 432x288 with 1 Axes>"
      ]
     },
     "metadata": {
      "needs_background": "light"
     },
     "output_type": "display_data"
    }
   ],
   "source": [
    "amari_stats_per_game.epa.hist()"
   ]
  },
  {
   "cell_type": "markdown",
   "metadata": {},
   "source": [
    "## Exploring the data\n",
    "\n",
    "#### EPA per Game by Month, broken down by Team"
   ]
  },
  {
   "cell_type": "code",
   "execution_count": 75,
   "metadata": {},
   "outputs": [
    {
     "data": {
      "text/plain": [
       "<matplotlib.axes._subplots.AxesSubplot at 0x123e3c438>"
      ]
     },
     "execution_count": 75,
     "metadata": {},
     "output_type": "execute_result"
    },
    {
     "data": {
      "image/png": "[encoded data removed]",
      "text/plain": [
       "<Figure size 720x432 with 1 Axes>"
      ]
     },
     "metadata": {
      "needs_background": "light"
     },
     "output_type": "display_data"
    }
   ],
   "source": [
    "monthly_team_epa_per_game = amari_stats_per_game.groupby(['month', 'team'], as_index=False)['epa'].mean()\n",
    "\n",
    "plt.figure(figsize=(10,6))\n",
    "sns.barplot(x= 'month', y = 'epa', data=monthly_team_epa_per_game, hue='team')"
   ]
  },
  {
   "cell_type": "markdown",
   "metadata": {},
   "source": [
    "#### Home vs Road EPA per game"
   ]
  },
  {
   "cell_type": "code",
   "execution_count": 76,
   "metadata": {},
   "outputs": [
    {
     "data": {
      "text/plain": [
       "<matplotlib.axes._subplots.AxesSubplot at 0x12424db00>"
      ]
     },
     "execution_count": 76,
     "metadata": {},
     "output_type": "execute_result"
    },
    {
     "data": {
      "image/png": "[encoded data removed]",
      "text/plain": [
       "<Figure size 720x432 with 1 Axes>"
      ]
     },
     "metadata": {
      "needs_background": "light"
     },
     "output_type": "display_data"
    }
   ],
   "source": [
    "plt.figure(figsize=(10,6))\n",
    "sns.boxplot(x= 'amari_home', y = 'epa', data=amari_stats_per_game, hue='team')"
   ]
  },
  {
   "cell_type": "markdown",
   "metadata": {},
   "source": [
    "#### Avg EPA per Quarter"
   ]
  },
  {
   "cell_type": "code",
   "execution_count": 93,
   "metadata": {},
   "outputs": [
    {
     "data": {
      "text/plain": [
       "<matplotlib.axes._subplots.AxesSubplot at 0x125451f98>"
      ]
     },
     "execution_count": 93,
     "metadata": {},
     "output_type": "execute_result"
    },
    {
     "data": {
      "image/png": "[encoded data removed]",
      "text/plain": [
       "<Figure size 720x432 with 1 Axes>"
      ]
     },
     "metadata": {
      "needs_background": "light"
     },
     "output_type": "display_data"
    }
   ],
   "source": [
    "#filter out overtime\n",
    "amari_stats_per_game_qtr = amari_stats_per_game_qtr.loc[amari_stats_per_game_qtr.qtr < 5]\n",
    "\n",
    "plt.figure(figsize=(10,6))\n",
    "sns.boxplot(x='qtr', y='epa', data=amari_stats_per_game_qtr, color = 'green')"
   ]
  },
  {
   "cell_type": "markdown",
   "metadata": {},
   "source": [
    "#### EPA per Quarter & Home v Road"
   ]
  },
  {
   "cell_type": "code",
   "execution_count": 95,
   "metadata": {},
   "outputs": [
    {
     "data": {
      "text/plain": [
       "<matplotlib.axes._subplots.AxesSubplot at 0x1258535c0>"
      ]
     },
     "execution_count": 95,
     "metadata": {},
     "output_type": "execute_result"
    },
    {
     "data": {
      "image/png": "[encoded data removed]",
      "text/plain": [
       "<Figure size 432x288 with 2 Axes>"
      ]
     },
     "metadata": {
      "needs_background": "light"
     },
     "output_type": "display_data"
    }
   ],
   "source": [
    "sns.heatmap(amari_stats_per_game_qtr.groupby(['qtr', 'amari_home'], as_index=False)['epa'].mean() \\\n",
    "    .pivot('qtr', 'amari_home', 'epa'), annot = True)"
   ]
  },
  {
   "cell_type": "markdown",
   "metadata": {},
   "source": [
    "#### vs Top Corners\n",
    "\n",
    "`https://bleacherreport.com/articles/2782436-ranking-the-nfls-best-shutdown-cornerbacks`\n",
    "\n",
    "Amari has played against 8 of the 10 corners on the list"
   ]
  },
  {
   "cell_type": "code",
   "execution_count": 178,
   "metadata": {},
   "outputs": [
    {
     "data": {
      "text/html": [
       "<div>\n",
       "<style scoped>\n",
       "    .dataframe tbody tr th:only-of-type {\n",
       "        vertical-align: middle;\n",
       "    }\n",
       "\n",
       "    .dataframe tbody tr th {\n",
       "        vertical-align: top;\n",
       "    }\n",
       "\n",
       "    .dataframe thead th {\n",
       "        text-align: right;\n",
       "    }\n",
       "</style>\n",
       "<table border=\"1\" class=\"dataframe\">\n",
       "  <thead>\n",
       "    <tr style=\"text-align: right;\">\n",
       "      <th></th>\n",
       "      <th>top_corner</th>\n",
       "      <th>epa</th>\n",
       "    </tr>\n",
       "  </thead>\n",
       "  <tbody>\n",
       "    <tr>\n",
       "      <th>0</th>\n",
       "      <td>N</td>\n",
       "      <td>2.301360</td>\n",
       "    </tr>\n",
       "    <tr>\n",
       "      <th>1</th>\n",
       "      <td>Y</td>\n",
       "      <td>-0.738198</td>\n",
       "    </tr>\n",
       "  </tbody>\n",
       "</table>\n",
       "</div>"
      ],
      "text/plain": [
       "  top_corner       epa\n",
       "0          N  2.301360\n",
       "1          Y -0.738198"
      ]
     },
     "execution_count": 178,
     "metadata": {},
     "output_type": "execute_result"
    }
   ],
   "source": [
    "corner_lst = ['M.Peters','A.Bouye','C.Hayward','M.Lattimore','D.Slay','A.Talib','T.White','M.Peters']\n",
    "\n",
    "corner_game_ids = amari_pbp.loc[amari_pbp.pass_defense_1_player_name.isin(corner_lst), 'game_id'].unique()\n",
    "\n",
    "amari_stats_per_game['top_corner'] = np.where(amari_stats_per_game['game_id'].isin(corner_game_ids), 'Y', 'N')\n",
    "\n",
    "amari_stats_per_game.groupby(['top_corner'], as_index=False)['epa'].mean()"
   ]
  },
  {
   "cell_type": "markdown",
   "metadata": {},
   "source": [
    "## Scrape Weather Data"
   ]
  },
  {
   "cell_type": "code",
   "execution_count": 96,
   "metadata": {},
   "outputs": [
    {
     "name": "stdout",
     "output_type": "stream",
     "text": [
      "Scraping Weather Data for the 2015 Season\n",
      "Scraping Weather Data for the 2016 Season\n",
      "Scraping Weather Data for the 2017 Season\n",
      "Scraping Weather Data for the 2018 Season\n",
      "Scraping Weather Data for the 2019 Season\n"
     ]
    }
   ],
   "source": [
    "def request_data(url):\n",
    "    page = requests.get(url)\n",
    "    soup = BeautifulSoup(page.text, 'html.parser')\n",
    "    \n",
    "    return soup\n",
    "\n",
    "def get_team_data(bs_data):\n",
    "    teams = bs_data.find_all(class_=\"team-name text-center\")\n",
    "\n",
    "    away_teams = []\n",
    "    home_teams = []\n",
    "\n",
    "    for i, v in enumerate(teams):\n",
    "        if i % 2 == 0:\n",
    "            away_teams.append(teams[i].find('a').contents[0])\n",
    "        else:\n",
    "            home_teams.append(teams[i].find('a').contents[0])\n",
    "            \n",
    "    return away_teams, home_teams\n",
    "\n",
    "def get_weather_data(bs_data):\n",
    "    games = bs_data.find_all('tr')\n",
    "\n",
    "    weather_lst = []\n",
    "    for i, v in enumerate(games):\n",
    "        #skip header\n",
    "        if i > 0:\n",
    "            game_details = games[i].find_all(class_='text-center')\n",
    "\n",
    "            forecast = game_details[5].contents[0]\n",
    "\n",
    "            weather_lst.append(' '.join(forecast.split()))\n",
    "            \n",
    "    return weather_lst\n",
    "\n",
    "weather_lst = []\n",
    "\n",
    "for season in seasons:\n",
    "    print(f'Scraping Weather Data for the {season} Season')\n",
    "    for week in weeks:\n",
    "        request_url = f'{weather_url}{season}/week-{week}'\n",
    "        soup = request_data(request_url)\n",
    "        \n",
    "        away_teams, home_teams = get_team_data(soup)\n",
    "        \n",
    "        weather = get_weather_data(soup)\n",
    "        \n",
    "        weather_df = pd.DataFrame({'away_tm': away_teams,\n",
    "                                   'home_tm': home_teams,\n",
    "                                   'weather': weather,\n",
    "                                  })\n",
    "        \n",
    "        weather_df['year'] = season\n",
    "        weather_df['week'] = week\n",
    "        \n",
    "        weather_lst.append(weather_df)\n",
    "        \n",
    "full_weather_df = pd.concat(weather_lst).reset_index(drop=True)\n",
    "\n",
    "coop_weather_df = full_weather_df.loc[(full_weather_df.away_tm.isin(['Cowboys','Raiders'])) |\n",
    "                                      (full_weather_df.home_tm.isin(['Cowboys','Raiders']))]\n",
    "\n",
    "amari_pbp = amari_pbp.replace('SD', 'LAC')\n",
    "\n",
    "coop_weather_df['away_team'] = coop_weather_df['away_tm'].apply(lambda x: team_map[x])\n",
    "coop_weather_df['home_team'] = coop_weather_df['home_tm'].apply(lambda x: team_map[x])\n",
    "\n",
    "merged_coop_df = amari_pbp.merge(coop_weather_df, how = 'left', on = ['away_team', 'home_team', 'year'])\n",
    "\n",
    "merged_coop_df['temp'] = np.where(merged_coop_df.weather == 'DOME',\n",
    "                                  -999,\n",
    "                                  merged_coop_df.weather.str.split('f').str[0]).astype(int)"
   ]
  },
  {
   "cell_type": "markdown",
   "metadata": {},
   "source": [
    "## Explore Performance by Game Temperature"
   ]
  },
  {
   "cell_type": "code",
   "execution_count": 97,
   "metadata": {},
   "outputs": [
    {
     "data": {
      "text/html": [
       "<div>\n",
       "<style scoped>\n",
       "    .dataframe tbody tr th:only-of-type {\n",
       "        vertical-align: middle;\n",
       "    }\n",
       "\n",
       "    .dataframe tbody tr th {\n",
       "        vertical-align: top;\n",
       "    }\n",
       "\n",
       "    .dataframe thead th {\n",
       "        text-align: right;\n",
       "    }\n",
       "</style>\n",
       "<table border=\"1\" class=\"dataframe\">\n",
       "  <thead>\n",
       "    <tr style=\"text-align: right;\">\n",
       "      <th></th>\n",
       "      <th>temperature</th>\n",
       "      <th>games</th>\n",
       "      <th>total_yards</th>\n",
       "      <th>yards_per_game</th>\n",
       "    </tr>\n",
       "  </thead>\n",
       "  <tbody>\n",
       "    <tr>\n",
       "      <th>1</th>\n",
       "      <td>&lt;50</td>\n",
       "      <td>21</td>\n",
       "      <td>1,047</td>\n",
       "      <td>49.9</td>\n",
       "    </tr>\n",
       "    <tr>\n",
       "      <th>0</th>\n",
       "      <td>50-75</td>\n",
       "      <td>35</td>\n",
       "      <td>2,280</td>\n",
       "      <td>65.1</td>\n",
       "    </tr>\n",
       "    <tr>\n",
       "      <th>2</th>\n",
       "      <td>&gt;=75</td>\n",
       "      <td>19</td>\n",
       "      <td>1,713</td>\n",
       "      <td>90.2</td>\n",
       "    </tr>\n",
       "  </tbody>\n",
       "</table>\n",
       "</div>"
      ],
      "text/plain": [
       "  temperature  games total_yards  yards_per_game\n",
       "1         <50     21       1,047            49.9\n",
       "0       50-75     35       2,280            65.1\n",
       "2        >=75     19       1,713            90.2"
      ]
     },
     "execution_count": 97,
     "metadata": {},
     "output_type": "execute_result"
    }
   ],
   "source": [
    "merged_coop_df['temp_bin'] = np.where(merged_coop_df.temp < 50, \"<50\",\n",
    "                                      np.where(merged_coop_df.temp < 75,'50-75',\n",
    "                                      np.where(merged_coop_df.temp >= 75, '>=75', 'NO TEMP')))\n",
    "\n",
    "temp_bin_df = merged_coop_df.groupby(['temp_bin'], as_index = False)['game_id',] \\\n",
    "    .agg(pd.Series.nunique) \\\n",
    "    .merge(merged_coop_df.groupby(['temp_bin'], as_index = False)['yards_gained',]\n",
    "           .agg(np.sum), on = 'temp_bin')\n",
    "\n",
    "temp_bin_df['yards_per_game'] = temp_bin_df['yards_gained'] / temp_bin_df['game_id']\n",
    "\n",
    "temp_bin_df.columns = ['temperature', 'games', 'total_yards', 'yards_per_game']\n",
    "\n",
    "temp_bin_df.yards_per_game = temp_bin_df.yards_per_game.round(1)\n",
    "\n",
    "temp_bin_df['total_yards'] = temp_bin_df.apply(lambda x: \"{:,}\".format(x['total_yards']), axis=1)\n",
    "temp_bin_df.sort_values('yards_per_game')"
   ]
  }
 ],
 "metadata": {
  "kernelspec": {
   "display_name": "Python 3",
   "language": "python",
   "name": "python3"
  },
  "language_info": {
   "codemirror_mode": {
    "name": "ipython",
    "version": 3
   },
   "file_extension": ".py",
   "mimetype": "text/x-python",
   "name": "python",
   "nbconvert_exporter": "python",
   "pygments_lexer": "ipython3",
   "version": "3.6.0"
  }
 },
 "nbformat": 4,
 "nbformat_minor": 4
}
