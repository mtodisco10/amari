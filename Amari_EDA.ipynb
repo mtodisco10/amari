{
 "cells": [
  {
   "cell_type": "code",
   "execution_count": 1,
   "metadata": {},
   "outputs": [],
   "source": [
    "import pandas as pd\n",
    "import numpy as np\n",
    "import matplotlib.pyplot as plt\n",
    "import seaborn as sns\n",
    "\n",
    "import warnings\n",
    "warnings.filterwarnings('ignore')\n",
    "pd.set_option('display.max_columns', 250)\n",
    "pd.set_option('display.max_rows', 1000)\n",
    "\n",
    "import requests\n",
    "import pandas as pd\n",
    "from bs4 import BeautifulSoup\n",
    "\n",
    "from team_map import team_map"
   ]
  },
  {
   "cell_type": "code",
   "execution_count": 2,
   "metadata": {},
   "outputs": [],
   "source": [
    "seasons = [2015, 2016, 2017, 2018, 2019]\n",
    "weeks = [str(w) for w in range(1, 18)]\n",
    "pbp_url = 'https://raw.githubusercontent.com/ryurko/nflscrapR-data/master/play_by_play_data/regular_season/reg_pbp_'\n",
    "weather_url = 'http://www.nflweather.com/en/week/'"
   ]
  },
  {
   "cell_type": "code",
   "execution_count": 3,
   "metadata": {},
   "outputs": [
    {
     "name": "stdout",
     "output_type": "stream",
     "text": [
      "Reading in Play-By-Play data for the 2015 season\n",
      "Reading in Play-By-Play data for the 2016 season\n",
      "Reading in Play-By-Play data for the 2017 season\n",
      "Reading in Play-By-Play data for the 2018 season\n",
      "Reading in Play-By-Play data for the 2019 season\n"
     ]
    }
   ],
   "source": [
    "coop_lst = []\n",
    "pbp_url = 'https://raw.githubusercontent.com/ryurko/nflscrapR-data/master/play_by_play_data/regular_season/reg_pbp_'\n",
    "for season in seasons:\n",
    "    print(f'Reading in Play-By-Play data for the {season} season')\n",
    "    season_pbp = pd.read_csv(pbp_url + str(season) + '.csv')\n",
    "    coop_pbp = season_pbp.loc[season_pbp.receiver_player_id == '00-0031544']\n",
    "    coop_lst.append(coop_pbp)\n",
    "    \n",
    "coop_df = pd.concat(coop_lst).reset_index(drop=True)"
   ]
  },
  {
   "cell_type": "code",
   "execution_count": 4,
   "metadata": {},
   "outputs": [],
   "source": [
    "coop_df['game_date'] = pd.to_datetime(coop_df['game_date'])\n",
    "coop_df['month'] = coop_df.game_date.dt.month\n",
    "coop_df['year'] = coop_df.game_date.dt.year"
   ]
  },
  {
   "cell_type": "code",
   "execution_count": 5,
   "metadata": {},
   "outputs": [],
   "source": [
    "yards_per_game = coop_df.groupby(['game_id', 'year', 'month',\n",
    "                                  'home_team', 'away_team'], as_index=False)['yards_gained'].sum()"
   ]
  },
  {
   "cell_type": "code",
   "execution_count": 6,
   "metadata": {},
   "outputs": [
    {
     "data": {
      "text/plain": [
       "<matplotlib.axes._subplots.AxesSubplot at 0x11ef497f0>"
      ]
     },
     "execution_count": 6,
     "metadata": {},
     "output_type": "execute_result"
    },
    {
     "data": {
      "image/png": "[encoded data removed]",
      "text/plain": [
       "<Figure size 720x432 with 1 Axes>"
      ]
     },
     "metadata": {
      "needs_background": "light"
     },
     "output_type": "display_data"
    }
   ],
   "source": [
    "team_yards_in_a_month = coop_df.groupby(['month', 'posteam'], as_index = False)['yards_gained'].sum() \\\n",
    "    .sort_values(['month', 'posteam'])\n",
    "\n",
    "plt.figure(figsize=(10,6))\n",
    "sns.barplot(x= 'month', y = 'yards_gained', data=team_yards_in_a_month, hue='posteam')"
   ]
  },
  {
   "cell_type": "code",
   "execution_count": 7,
   "metadata": {},
   "outputs": [],
   "source": [
    "team_games_in_a_month = coop_df.groupby(['month', 'posteam'], as_index=False)['game_id'] \\\n",
    "    .agg({'games': pd.Series.nunique}) \\\n",
    "    .sort_values(['month', 'posteam'])\n",
    "\n",
    "graph_df = team_yards_in_a_month.merge(team_games_in_a_month, on = ['month', 'posteam'])"
   ]
  },
  {
   "cell_type": "code",
   "execution_count": 8,
   "metadata": {},
   "outputs": [
    {
     "data": {
      "text/plain": [
       "<matplotlib.axes._subplots.AxesSubplot at 0x11ef5e6a0>"
      ]
     },
     "execution_count": 8,
     "metadata": {},
     "output_type": "execute_result"
    },
    {
     "data": {
      "image/png": "[encoded data removed]",
      "text/plain": [
       "<Figure size 720x432 with 1 Axes>"
      ]
     },
     "metadata": {
      "needs_background": "light"
     },
     "output_type": "display_data"
    }
   ],
   "source": [
    "graph_df['yards_per_game'] = graph_df['yards_gained'] / graph_df['games']\n",
    "\n",
    "plt.figure(figsize=(10,6))\n",
    "sns.barplot(x='month', y='yards_per_game', hue='posteam', data=graph_df.loc[graph_df.month != 1])"
   ]
  },
  {
   "cell_type": "code",
   "execution_count": 9,
   "metadata": {},
   "outputs": [],
   "source": [
    "# team_yards_in_a_qtr = coop_df.groupby(['qtr', 'posteam', 'month'], as_index = False)['yards_gained'].sum() \\\n",
    "#     .sort_values(['qtr', 'posteam'])\n",
    "\n",
    "# sns.barplot(x='qtr', y='yards_gained', data=team_yards_in_a_qtr.loc[team_yards_in_a_qtr.qtr != 5], #hue='posteam'\n",
    "#            )\n",
    "\n",
    "# g = sns.FacetGrid(team_yards_in_a_qtr, col=\"qtr\", col_wrap=2, height=1.5)\n",
    "# g = g.map(plt.hist, \"month\", \"yards_gained\", marker=\".\")"
   ]
  },
  {
   "cell_type": "code",
   "execution_count": 10,
   "metadata": {},
   "outputs": [],
   "source": [
    "def request_data(url):\n",
    "    page = requests.get(url)\n",
    "    soup = BeautifulSoup(page.text, 'html.parser')\n",
    "    \n",
    "    return soup\n",
    "\n",
    "def get_team_data(bs_data):\n",
    "    teams = bs_data.find_all(class_=\"team-name text-center\")\n",
    "\n",
    "    away_teams = []\n",
    "    home_teams = []\n",
    "\n",
    "    for i, v in enumerate(teams):\n",
    "        if i % 2 == 0:\n",
    "            away_teams.append(teams[i].find('a').contents[0])\n",
    "        else:\n",
    "            home_teams.append(teams[i].find('a').contents[0])\n",
    "            \n",
    "    return away_teams, home_teams\n",
    "\n",
    "def get_weather_data(bs_data):\n",
    "    games = bs_data.find_all('tr')\n",
    "\n",
    "    weather_lst = []\n",
    "    for i, v in enumerate(games):\n",
    "        #skip header\n",
    "        if i > 0:\n",
    "            game_details = games[i].find_all(class_='text-center')\n",
    "\n",
    "            forecast = game_details[5].contents[0]\n",
    "\n",
    "            weather_lst.append(' '.join(forecast.split()))\n",
    "            \n",
    "    return weather_lst"
   ]
  },
  {
   "cell_type": "code",
   "execution_count": 11,
   "metadata": {},
   "outputs": [
    {
     "name": "stdout",
     "output_type": "stream",
     "text": [
      "Scraping Weather Data for the 2015 Season\n",
      "Scraping Weather Data for the 2016 Season\n",
      "Scraping Weather Data for the 2017 Season\n",
      "Scraping Weather Data for the 2018 Season\n",
      "Scraping Weather Data for the 2019 Season\n"
     ]
    }
   ],
   "source": [
    "weather_lst = []\n",
    "\n",
    "for season in seasons:\n",
    "    print(f'Scraping Weather Data for the {season} Season')\n",
    "    for week in weeks:\n",
    "        request_url = f'{weather_url}{season}/week-{week}'\n",
    "        soup = request_data(request_url)\n",
    "        \n",
    "        away_teams, home_teams = get_team_data(soup)\n",
    "        \n",
    "        weather = get_weather_data(soup)\n",
    "        \n",
    "        weather_df = pd.DataFrame({'away_tm': away_teams,\n",
    "                                   'home_tm': home_teams,\n",
    "                                   'weather': weather,\n",
    "                                  })\n",
    "        \n",
    "        weather_df['year'] = season\n",
    "        weather_df['week'] = week\n",
    "        \n",
    "        weather_lst.append(weather_df)\n",
    "        \n",
    "full_weather_df = pd.concat(weather_lst).reset_index(drop=True)\n",
    "\n",
    "coop_weather_df = full_weather_df.loc[(full_weather_df.away_tm.isin(['Cowboys','Raiders'])) |\n",
    "                                      (full_weather_df.home_tm.isin(['Cowboys','Raiders']))]"
   ]
  },
  {
   "cell_type": "code",
   "execution_count": 19,
   "metadata": {},
   "outputs": [
    {
     "data": {
      "text/plain": [
       "(586, 258)"
      ]
     },
     "execution_count": 19,
     "metadata": {},
     "output_type": "execute_result"
    }
   ],
   "source": [
    "coop_df = coop_df.replace('SD', 'LAC')\n",
    "coop_df.shape"
   ]
  },
  {
   "cell_type": "code",
   "execution_count": 20,
   "metadata": {},
   "outputs": [],
   "source": [
    "coop_weather_df['away_team'] = coop_weather_df['away_tm'].apply(lambda x: team_map[x])\n",
    "coop_weather_df['home_team'] = coop_weather_df['home_tm'].apply(lambda x: team_map[x])"
   ]
  },
  {
   "cell_type": "code",
   "execution_count": 21,
   "metadata": {},
   "outputs": [],
   "source": [
    "merged_coop_df = coop_df.merge(coop_weather_df, how = 'left', on = ['away_team', 'home_team', 'year'])"
   ]
  },
  {
   "cell_type": "code",
   "execution_count": 36,
   "metadata": {},
   "outputs": [],
   "source": [
    "merged_coop_df['temp'] = np.where(merged_coop_df.weather == 'DOME',\n",
    "                                  -999,\n",
    "                                  merged_coop_df.weather.str.split('f').str[0]).astype(int)"
   ]
  },
  {
   "cell_type": "code",
   "execution_count": 39,
   "metadata": {},
   "outputs": [
    {
     "data": {
      "text/plain": [
       "<matplotlib.axes._subplots.AxesSubplot at 0x121ea7dd8>"
      ]
     },
     "execution_count": 39,
     "metadata": {},
     "output_type": "execute_result"
    },
    {
     "data": {
      "image/png": "[encoded data removed]",
      "text/plain": [
       "<Figure size 432x288 with 1 Axes>"
      ]
     },
     "metadata": {
      "needs_background": "light"
     },
     "output_type": "display_data"
    }
   ],
   "source": [
    "merged_coop_df.loc[merged_coop_df.weather != 'DOME']['temp'].hist()"
   ]
  },
  {
   "cell_type": "code",
   "execution_count": null,
   "metadata": {},
   "outputs": [],
   "source": [
    "merged_coop_df.loc[merged_coop_df.weather != 'DOME']"
   ]
  },
  {
   "cell_type": "code",
   "execution_count": 46,
   "metadata": {},
   "outputs": [],
   "source": [
    "merged_coop_df['temp_bin'] = np.where(merged_coop_df.temp < 50, \"<50\",\n",
    "                                      np.where(merged_coop_df.temp < 75,'50-75',\n",
    "                                      np.where(merged_coop_df.temp >= 75, '>=75', 'NO TEMP')))"
   ]
  },
  {
   "cell_type": "code",
   "execution_count": 49,
   "metadata": {},
   "outputs": [
    {
     "data": {
      "text/plain": [
       "50-75    0.450512\n",
       "<50      0.278157\n",
       ">=75     0.271331\n",
       "Name: temp_bin, dtype: float64"
      ]
     },
     "execution_count": 49,
     "metadata": {},
     "output_type": "execute_result"
    }
   ],
   "source": [
    "merged_coop_df.temp_bin.value_counts(normalize=True)"
   ]
  },
  {
   "cell_type": "code",
   "execution_count": 79,
   "metadata": {},
   "outputs": [],
   "source": [
    "temp_bin_df = merged_coop_df.groupby(['temp_bin'], as_index = False)['game_id',] \\\n",
    "    .agg(pd.Series.nunique) \\\n",
    "    .merge(merged_coop_df.groupby(['temp_bin'], as_index = False)['yards_gained',]\n",
    "           .agg(np.sum), on = 'temp_bin')"
   ]
  },
  {
   "cell_type": "code",
   "execution_count": 82,
   "metadata": {},
   "outputs": [],
   "source": [
    "temp_bin_df['yards_per_game'] = temp_bin_df['yards_gained'] / temp_bin_df['game_id']"
   ]
  },
  {
   "cell_type": "code",
   "execution_count": 84,
   "metadata": {},
   "outputs": [
    {
     "data": {
      "text/html": [
       "<div>\n",
       "<style scoped>\n",
       "    .dataframe tbody tr th:only-of-type {\n",
       "        vertical-align: middle;\n",
       "    }\n",
       "\n",
       "    .dataframe tbody tr th {\n",
       "        vertical-align: top;\n",
       "    }\n",
       "\n",
       "    .dataframe thead th {\n",
       "        text-align: right;\n",
       "    }\n",
       "</style>\n",
       "<table border=\"1\" class=\"dataframe\">\n",
       "  <thead>\n",
       "    <tr style=\"text-align: right;\">\n",
       "      <th></th>\n",
       "      <th>temp_bin</th>\n",
       "      <th>game_id</th>\n",
       "      <th>yards_gained</th>\n",
       "      <th>yards_per_game</th>\n",
       "    </tr>\n",
       "  </thead>\n",
       "  <tbody>\n",
       "    <tr>\n",
       "      <th>1</th>\n",
       "      <td>&lt;50</td>\n",
       "      <td>22</td>\n",
       "      <td>1067</td>\n",
       "      <td>48.500000</td>\n",
       "    </tr>\n",
       "    <tr>\n",
       "      <th>0</th>\n",
       "      <td>50-75</td>\n",
       "      <td>36</td>\n",
       "      <td>2319</td>\n",
       "      <td>64.416667</td>\n",
       "    </tr>\n",
       "    <tr>\n",
       "      <th>2</th>\n",
       "      <td>&gt;=75</td>\n",
       "      <td>19</td>\n",
       "      <td>1713</td>\n",
       "      <td>90.157895</td>\n",
       "    </tr>\n",
       "  </tbody>\n",
       "</table>\n",
       "</div>"
      ],
      "text/plain": [
       "  temp_bin  game_id  yards_gained  yards_per_game\n",
       "1      <50       22          1067       48.500000\n",
       "0    50-75       36          2319       64.416667\n",
       "2     >=75       19          1713       90.157895"
      ]
     },
     "execution_count": 84,
     "metadata": {},
     "output_type": "execute_result"
    }
   ],
   "source": [
    "temp_bin_df.sort_values('yards_per_game')"
   ]
  },
  {
   "cell_type": "code",
   "execution_count": null,
   "metadata": {},
   "outputs": [],
   "source": []
  }
 ],
 "metadata": {
  "kernelspec": {
   "display_name": "Python 3",
   "language": "python",
   "name": "python3"
  },
  "language_info": {
   "codemirror_mode": {
    "name": "ipython",
    "version": 3
   },
   "file_extension": ".py",
   "mimetype": "text/x-python",
   "name": "python",
   "nbconvert_exporter": "python",
   "pygments_lexer": "ipython3",
   "version": "3.6.0"
  }
 },
 "nbformat": 4,
 "nbformat_minor": 4
}
